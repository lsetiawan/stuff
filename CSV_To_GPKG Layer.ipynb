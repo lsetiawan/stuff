{
 "cells": [
  {
   "cell_type": "markdown",
   "metadata": {},
   "source": [
    "# Creating Geopackage and upload to Geoserver as layer\n",
    "- Created: 7/1/2016"
   ]
  },
  {
   "cell_type": "code",
   "execution_count": 1,
   "metadata": {
    "collapsed": false
   },
   "outputs": [
    {
     "name": "stderr",
     "output_type": "stream",
     "text": [
      "/home/lsetiawan/anaconda2/envs/geo/lib/python2.7/site-packages/matplotlib/font_manager.py:273: UserWarning: Matplotlib is building the font cache using fc-list. This may take a moment.\n",
      "  warnings.warn('Matplotlib is building the font cache using fc-list. This may take a moment.')\n"
     ]
    },
    {
     "data": {
      "application/json": {
       "Software versions": [
        {
         "module": "Python",
         "version": "2.7.12 64bit [GCC 4.4.7 20120313 (Red Hat 4.4.7-1)]"
        },
        {
         "module": "IPython",
         "version": "4.2.0"
        },
        {
         "module": "OS",
         "version": "Linux 4.2.0 36 generic x86_64 with debian jessie sid"
        },
        {
         "module": "numpy",
         "version": "1.11.1"
        },
        {
         "module": "pandas",
         "version": "0.18.1"
        },
        {
         "module": "geopandas",
         "version": "0+unknown"
        },
        {
         "module": "fiona",
         "version": "1.6.4"
        },
        {
         "module": "shapely",
         "version": "1.5.16"
        },
        {
         "module": "gdal",
         "version": "1.11.4"
        }
       ]
      },
      "text/html": [
       "<table><tr><th>Software</th><th>Version</th></tr><tr><td>Python</td><td>2.7.12 64bit [GCC 4.4.7 20120313 (Red Hat 4.4.7-1)]</td></tr><tr><td>IPython</td><td>4.2.0</td></tr><tr><td>OS</td><td>Linux 4.2.0 36 generic x86_64 with debian jessie sid</td></tr><tr><td>numpy</td><td>1.11.1</td></tr><tr><td>pandas</td><td>0.18.1</td></tr><tr><td>geopandas</td><td>0+unknown</td></tr><tr><td>fiona</td><td>1.6.4</td></tr><tr><td>shapely</td><td>1.5.16</td></tr><tr><td>gdal</td><td>1.11.4</td></tr><tr><td colspan='2'>Fri Jul 01 15:37:44 2016 PDT</td></tr></table>"
      ],
      "text/latex": [
       "\\begin{tabular}{|l|l|}\\hline\n",
       "{\\bf Software} & {\\bf Version} \\\\ \\hline\\hline\n",
       "Python & 2.7.12 64bit [GCC 4.4.7 20120313 (Red Hat 4.4.7-1)] \\\\ \\hline\n",
       "IPython & 4.2.0 \\\\ \\hline\n",
       "OS & Linux 4.2.0 36 generic x86\\_64 with debian jessie sid \\\\ \\hline\n",
       "numpy & 1.11.1 \\\\ \\hline\n",
       "pandas & 0.18.1 \\\\ \\hline\n",
       "geopandas & 0+unknown \\\\ \\hline\n",
       "fiona & 1.6.4 \\\\ \\hline\n",
       "shapely & 1.5.16 \\\\ \\hline\n",
       "gdal & 1.11.4 \\\\ \\hline\n",
       "\\hline \\multicolumn{2}{|l|}{Fri Jul 01 15:37:44 2016 PDT} \\\\ \\hline\n",
       "\\end{tabular}\n"
      ],
      "text/plain": [
       "Software versions\n",
       "Python 2.7.12 64bit [GCC 4.4.7 20120313 (Red Hat 4.4.7-1)]\n",
       "IPython 4.2.0\n",
       "OS Linux 4.2.0 36 generic x86_64 with debian jessie sid\n",
       "numpy 1.11.1\n",
       "pandas 0.18.1\n",
       "geopandas 0+unknown\n",
       "fiona 1.6.4\n",
       "shapely 1.5.16\n",
       "gdal 1.11.4\n",
       "Fri Jul 01 15:37:44 2016 PDT"
      ]
     },
     "execution_count": 1,
     "metadata": {},
     "output_type": "execute_result"
    }
   ],
   "source": [
    "# -*- coding: utf-8 -*-\n",
    "%matplotlib inline\n",
    "import os, geopandas as gpd, pandas as pd\n",
    "import fiona as fio, json, numpy as np\n",
    "from shapely.geometry import Point\n",
    "from geopandas import GeoDataFrame\n",
    "\n",
    "%load_ext version_information\n",
    "%version_information numpy, pandas, geopandas, fiona, shapely, gdal"
   ]
  },
  {
   "cell_type": "code",
   "execution_count": 2,
   "metadata": {
    "collapsed": true
   },
   "outputs": [],
   "source": [
    "# Assign file_path\n",
    "pth = \"./\"\n",
    "fcsv = \"platform_meta_201606291445_1.csv\""
   ]
  },
  {
   "cell_type": "code",
   "execution_count": 3,
   "metadata": {
    "collapsed": false
   },
   "outputs": [],
   "source": [
    "def readCSV(pth,fcsv):\n",
    "    df = pd.read_csv(os.path.join(pth,fcsv))\n",
    "    df_siso = df[df['platform_class'] == 'SISO']\n",
    "    df_siso_all = df_siso[df_siso['mode'] == 'all']\n",
    "    df_cleaned = df_siso_all.drop(['mode','app_id','bounding_area','platform_class','route','route_hue','has_obs_data'], axis=1)\n",
    "    \n",
    "    # Convert data to str?\n",
    "    '''for d in df_cleaned:\n",
    "        #pass\n",
    "        if d == 'lat' or d == 'lon' or d == 'geometry':\n",
    "            pass\n",
    "        else:\n",
    "            #pass\n",
    "            df_cleaned['{}'.format(d)] = df_cleaned['{}'.format(d)].astype(str)'''\n",
    "\n",
    "    df_final = df_cleaned.reset_index(drop=True)\n",
    "    \n",
    "    return df_final"
   ]
  },
  {
   "cell_type": "code",
   "execution_count": 4,
   "metadata": {
    "collapsed": false
   },
   "outputs": [
    {
     "name": "stdout",
     "output_type": "stream",
     "text": [
      "<type 'str'>\n",
      "<type 'str'>\n",
      "<type 'str'>\n",
      "<type 'str'>\n",
      "<type 'str'>\n",
      "<type 'str'>\n",
      "<type 'numpy.float64'>\n",
      "<type 'numpy.float64'>\n",
      "<type 'numpy.int64'>\n",
      "<type 'str'>\n",
      "<type 'numpy.float64'>\n",
      "<type 'str'>\n",
      "<type 'str'>\n",
      "<type 'str'>\n",
      "<type 'str'>\n",
      "<type 'str'>\n",
      "<type 'str'>\n",
      "<type 'str'>\n",
      "<type 'str'>\n",
      "<type 'str'>\n",
      "<type 'numpy.int64'>\n"
     ]
    }
   ],
   "source": [
    "data = readCSV(pth,fcsv)\n",
    "# Look at their types\n",
    "for d in data:\n",
    "    print(type(data['{}'.format(d)][0]))"
   ]
  },
  {
   "cell_type": "code",
   "execution_count": 5,
   "metadata": {
    "collapsed": false
   },
   "outputs": [
    {
     "data": {
      "text/html": [
       "<div>\n",
       "<table border=\"1\" class=\"dataframe\">\n",
       "  <thead>\n",
       "    <tr style=\"text-align: right;\">\n",
       "      <th></th>\n",
       "      <th>platform_label</th>\n",
       "      <th>platform_type</th>\n",
       "      <th>name</th>\n",
       "      <th>short_name</th>\n",
       "      <th>datasrc_platform_cd</th>\n",
       "      <th>data_timezone</th>\n",
       "      <th>lat</th>\n",
       "      <th>lon</th>\n",
       "      <th>bounding_area_hue</th>\n",
       "      <th>state</th>\n",
       "      <th>...</th>\n",
       "      <th>region</th>\n",
       "      <th>provider</th>\n",
       "      <th>provider_url</th>\n",
       "      <th>provider_type</th>\n",
       "      <th>data_source</th>\n",
       "      <th>data_source_url</th>\n",
       "      <th>url</th>\n",
       "      <th>icon</th>\n",
       "      <th>status</th>\n",
       "      <th>status_date</th>\n",
       "    </tr>\n",
       "  </thead>\n",
       "  <tbody>\n",
       "    <tr>\n",
       "      <th>0</th>\n",
       "      <td>APL_Chaba</td>\n",
       "      <td>Buoy</td>\n",
       "      <td>?há?ba· UW/NANOOS Moored Buoy near La Push</td>\n",
       "      <td>APL-UW ?há?ba·</td>\n",
       "      <td>aplchaba</td>\n",
       "      <td>US/Pacific</td>\n",
       "      <td>47.9672</td>\n",
       "      <td>-124.9502</td>\n",
       "      <td>0</td>\n",
       "      <td>Washington</td>\n",
       "      <td>...</td>\n",
       "      <td>La Push</td>\n",
       "      <td>APL-UW</td>\n",
       "      <td>http://www.nanoos.org/</td>\n",
       "      <td>Academic</td>\n",
       "      <td>NANOOS-APL2</td>\n",
       "      <td>http://www.nanoos.org/</td>\n",
       "      <td>http://wavechasers.apl.washington.edu/projects...</td>\n",
       "      <td>buoy_default</td>\n",
       "      <td>online</td>\n",
       "      <td>1458680400</td>\n",
       "    </tr>\n",
       "    <tr>\n",
       "      <th>1</th>\n",
       "      <td>APL_Nemo</td>\n",
       "      <td>Buoy</td>\n",
       "      <td>UW/NANOOS NEMO Subsurface profiler with NOAA E...</td>\n",
       "      <td>APL-UW NEMO-ESP Profiler</td>\n",
       "      <td>aplnemo</td>\n",
       "      <td>US/Pacific</td>\n",
       "      <td>47.9740</td>\n",
       "      <td>-124.9550</td>\n",
       "      <td>0</td>\n",
       "      <td>Washington</td>\n",
       "      <td>...</td>\n",
       "      <td>La Push</td>\n",
       "      <td>APL-UW</td>\n",
       "      <td>http://www.nanoos.org</td>\n",
       "      <td>Academic</td>\n",
       "      <td>NANOOS-APL3</td>\n",
       "      <td>http://www.nanoos.org</td>\n",
       "      <td>NaN</td>\n",
       "      <td>buoy_default</td>\n",
       "      <td>online</td>\n",
       "      <td>1464030000</td>\n",
       "    </tr>\n",
       "    <tr>\n",
       "      <th>2</th>\n",
       "      <td>APL_NPB1PtWells</td>\n",
       "      <td>Buoy</td>\n",
       "      <td>Profiling Buoy at Point Wells - Central Sound</td>\n",
       "      <td>ORCA Point Wells</td>\n",
       "      <td>npb1</td>\n",
       "      <td>US/Pacific</td>\n",
       "      <td>47.7612</td>\n",
       "      <td>-122.3972</td>\n",
       "      <td>0</td>\n",
       "      <td>Washington</td>\n",
       "      <td>...</td>\n",
       "      <td>Puget Sound</td>\n",
       "      <td>ORCA-UW</td>\n",
       "      <td>http://orca.ocean.washington.edu</td>\n",
       "      <td>Academic</td>\n",
       "      <td>NANOOS-APL</td>\n",
       "      <td>NaN</td>\n",
       "      <td>http://orca.ocean.washington.edu/data_pointWel...</td>\n",
       "      <td>buoy_default</td>\n",
       "      <td>online</td>\n",
       "      <td>1454396400</td>\n",
       "    </tr>\n",
       "    <tr>\n",
       "      <th>3</th>\n",
       "      <td>APL_NPB2Carr</td>\n",
       "      <td>Buoy</td>\n",
       "      <td>Profiling Buoy at Carr Inlet - South Sound</td>\n",
       "      <td>ORCA Carr Inlet</td>\n",
       "      <td>npb2</td>\n",
       "      <td>US/Pacific</td>\n",
       "      <td>47.2800</td>\n",
       "      <td>-122.7300</td>\n",
       "      <td>0</td>\n",
       "      <td>Washington</td>\n",
       "      <td>...</td>\n",
       "      <td>Puget Sound</td>\n",
       "      <td>ORCA-UW</td>\n",
       "      <td>http://orca.ocean.washington.edu</td>\n",
       "      <td>Academic</td>\n",
       "      <td>NANOOS-APL</td>\n",
       "      <td>NaN</td>\n",
       "      <td>http://orca.ocean.washington.edu/data_carrInle...</td>\n",
       "      <td>buoy_default</td>\n",
       "      <td>online</td>\n",
       "      <td>1430422200</td>\n",
       "    </tr>\n",
       "    <tr>\n",
       "      <th>4</th>\n",
       "      <td>CDIP_46211</td>\n",
       "      <td>Buoy</td>\n",
       "      <td>Station 46211 - Grays Harbor (036)</td>\n",
       "      <td>CDIP Grays Harbor</td>\n",
       "      <td>46211</td>\n",
       "      <td>US/Pacific</td>\n",
       "      <td>46.8580</td>\n",
       "      <td>-124.2440</td>\n",
       "      <td>0</td>\n",
       "      <td>Washington</td>\n",
       "      <td>...</td>\n",
       "      <td>Grays Harbor</td>\n",
       "      <td>CDIP-Scripps</td>\n",
       "      <td>http://cdip.ucsd.edu/</td>\n",
       "      <td>Academic</td>\n",
       "      <td>NDBC</td>\n",
       "      <td>NaN</td>\n",
       "      <td>http://cdip.ucsd.edu/themes/s?u2=s:036:st:1&amp;d2=p9</td>\n",
       "      <td>buoy_default</td>\n",
       "      <td>online</td>\n",
       "      <td>1458676800</td>\n",
       "    </tr>\n",
       "  </tbody>\n",
       "</table>\n",
       "<p>5 rows × 21 columns</p>\n",
       "</div>"
      ],
      "text/plain": [
       "    platform_label platform_type  \\\n",
       "0        APL_Chaba          Buoy   \n",
       "1         APL_Nemo          Buoy   \n",
       "2  APL_NPB1PtWells          Buoy   \n",
       "3     APL_NPB2Carr          Buoy   \n",
       "4       CDIP_46211          Buoy   \n",
       "\n",
       "                                                name  \\\n",
       "0         ?há?ba· UW/NANOOS Moored Buoy near La Push   \n",
       "1  UW/NANOOS NEMO Subsurface profiler with NOAA E...   \n",
       "2      Profiling Buoy at Point Wells - Central Sound   \n",
       "3         Profiling Buoy at Carr Inlet - South Sound   \n",
       "4                 Station 46211 - Grays Harbor (036)   \n",
       "\n",
       "                 short_name datasrc_platform_cd data_timezone      lat  \\\n",
       "0            APL-UW ?há?ba·            aplchaba    US/Pacific  47.9672   \n",
       "1  APL-UW NEMO-ESP Profiler             aplnemo    US/Pacific  47.9740   \n",
       "2          ORCA Point Wells                npb1    US/Pacific  47.7612   \n",
       "3           ORCA Carr Inlet                npb2    US/Pacific  47.2800   \n",
       "4         CDIP Grays Harbor               46211    US/Pacific  46.8580   \n",
       "\n",
       "        lon  bounding_area_hue       state     ...            region  \\\n",
       "0 -124.9502                  0  Washington     ...           La Push   \n",
       "1 -124.9550                  0  Washington     ...           La Push   \n",
       "2 -122.3972                  0  Washington     ...       Puget Sound   \n",
       "3 -122.7300                  0  Washington     ...       Puget Sound   \n",
       "4 -124.2440                  0  Washington     ...      Grays Harbor   \n",
       "\n",
       "       provider                      provider_url provider_type  data_source  \\\n",
       "0        APL-UW            http://www.nanoos.org/      Academic  NANOOS-APL2   \n",
       "1        APL-UW             http://www.nanoos.org      Academic  NANOOS-APL3   \n",
       "2       ORCA-UW  http://orca.ocean.washington.edu      Academic   NANOOS-APL   \n",
       "3       ORCA-UW  http://orca.ocean.washington.edu      Academic   NANOOS-APL   \n",
       "4  CDIP-Scripps             http://cdip.ucsd.edu/      Academic         NDBC   \n",
       "\n",
       "          data_source_url                                                url  \\\n",
       "0  http://www.nanoos.org/  http://wavechasers.apl.washington.edu/projects...   \n",
       "1   http://www.nanoos.org                                                NaN   \n",
       "2                     NaN  http://orca.ocean.washington.edu/data_pointWel...   \n",
       "3                     NaN  http://orca.ocean.washington.edu/data_carrInle...   \n",
       "4                     NaN  http://cdip.ucsd.edu/themes/s?u2=s:036:st:1&d2=p9   \n",
       "\n",
       "           icon  status status_date  \n",
       "0  buoy_default  online  1458680400  \n",
       "1  buoy_default  online  1464030000  \n",
       "2  buoy_default  online  1454396400  \n",
       "3  buoy_default  online  1430422200  \n",
       "4  buoy_default  online  1458676800  \n",
       "\n",
       "[5 rows x 21 columns]"
      ]
     },
     "execution_count": 5,
     "metadata": {},
     "output_type": "execute_result"
    }
   ],
   "source": [
    "data.head()"
   ]
  },
  {
   "cell_type": "code",
   "execution_count": 6,
   "metadata": {
    "collapsed": false
   },
   "outputs": [],
   "source": [
    "def createGeoJSON(data):\n",
    "    # Assign CRS, retrieved from epsg.io, the example below is EPSG:4326\n",
    "    crs = 'GEOGCS[\"WGS 84\",DATUM[\"WGS_1984\",SPHEROID[\"WGS 84\",6378137,298.257223563,AUTHORITY[\"EPSG\",\"7030\"]],AUTHORITY[\"EPSG\",\"6326\"]],PRIMEM[\"Greenwich\",0,AUTHORITY[\"EPSG\",\"8901\"]],UNIT[\"degree\",0.0174532925199433,AUTHORITY[\"EPSG\",\"9122\"]],AUTHORITY[\"EPSG\",\"4326\"]]'\n",
    "    geometry = [Point(xy) for xy in zip(data.lon, data.lat)]\n",
    "    geo_df = GeoDataFrame(data, crs=crs, geometry=geometry).apply(pd.to_numeric, errors='ignore')\n",
    "    \n",
    "    #json_data = geo_df.to_json()\n",
    "    \n",
    "    print(\"Original Column Header: {}\\n\".format(geo_df.columns.values))\n",
    "    \n",
    "    return geo_df, crs"
   ]
  },
  {
   "cell_type": "code",
   "execution_count": 7,
   "metadata": {
    "collapsed": false
   },
   "outputs": [
    {
     "name": "stdout",
     "output_type": "stream",
     "text": [
      "Original Column Header: ['platform_label' 'platform_type' 'name' 'short_name' 'datasrc_platform_cd'\n",
      " 'data_timezone' 'lat' 'lon' 'bounding_area_hue' 'state' 'sub_region'\n",
      " 'region' 'provider' 'provider_url' 'provider_type' 'data_source'\n",
      " 'data_source_url' 'url' 'icon' 'status' 'status_date' 'geometry']\n",
      "\n"
     ]
    }
   ],
   "source": [
    "gdf,crs = createGeoJSON(data)"
   ]
  },
  {
   "cell_type": "code",
   "execution_count": 8,
   "metadata": {
    "collapsed": false
   },
   "outputs": [
    {
     "data": {
      "text/html": [
       "<div>\n",
       "<table border=\"1\" class=\"dataframe\">\n",
       "  <thead>\n",
       "    <tr style=\"text-align: right;\">\n",
       "      <th></th>\n",
       "      <th>platform_label</th>\n",
       "      <th>platform_type</th>\n",
       "      <th>name</th>\n",
       "      <th>short_name</th>\n",
       "      <th>datasrc_platform_cd</th>\n",
       "      <th>data_timezone</th>\n",
       "      <th>lat</th>\n",
       "      <th>lon</th>\n",
       "      <th>bounding_area_hue</th>\n",
       "      <th>state</th>\n",
       "      <th>...</th>\n",
       "      <th>provider</th>\n",
       "      <th>provider_url</th>\n",
       "      <th>provider_type</th>\n",
       "      <th>data_source</th>\n",
       "      <th>data_source_url</th>\n",
       "      <th>url</th>\n",
       "      <th>icon</th>\n",
       "      <th>status</th>\n",
       "      <th>status_date</th>\n",
       "      <th>geometry</th>\n",
       "    </tr>\n",
       "  </thead>\n",
       "  <tbody>\n",
       "    <tr>\n",
       "      <th>0</th>\n",
       "      <td>APL_Chaba</td>\n",
       "      <td>Buoy</td>\n",
       "      <td>?há?ba· UW/NANOOS Moored Buoy near La Push</td>\n",
       "      <td>APL-UW ?há?ba·</td>\n",
       "      <td>aplchaba</td>\n",
       "      <td>US/Pacific</td>\n",
       "      <td>47.9672</td>\n",
       "      <td>-124.9502</td>\n",
       "      <td>0</td>\n",
       "      <td>Washington</td>\n",
       "      <td>...</td>\n",
       "      <td>APL-UW</td>\n",
       "      <td>http://www.nanoos.org/</td>\n",
       "      <td>Academic</td>\n",
       "      <td>NANOOS-APL2</td>\n",
       "      <td>http://www.nanoos.org/</td>\n",
       "      <td>http://wavechasers.apl.washington.edu/projects...</td>\n",
       "      <td>buoy_default</td>\n",
       "      <td>online</td>\n",
       "      <td>1458680400</td>\n",
       "      <td>POINT (-124.9502 47.9672)</td>\n",
       "    </tr>\n",
       "    <tr>\n",
       "      <th>1</th>\n",
       "      <td>APL_Nemo</td>\n",
       "      <td>Buoy</td>\n",
       "      <td>UW/NANOOS NEMO Subsurface profiler with NOAA E...</td>\n",
       "      <td>APL-UW NEMO-ESP Profiler</td>\n",
       "      <td>aplnemo</td>\n",
       "      <td>US/Pacific</td>\n",
       "      <td>47.9740</td>\n",
       "      <td>-124.9550</td>\n",
       "      <td>0</td>\n",
       "      <td>Washington</td>\n",
       "      <td>...</td>\n",
       "      <td>APL-UW</td>\n",
       "      <td>http://www.nanoos.org</td>\n",
       "      <td>Academic</td>\n",
       "      <td>NANOOS-APL3</td>\n",
       "      <td>http://www.nanoos.org</td>\n",
       "      <td>NaN</td>\n",
       "      <td>buoy_default</td>\n",
       "      <td>online</td>\n",
       "      <td>1464030000</td>\n",
       "      <td>POINT (-124.955 47.974)</td>\n",
       "    </tr>\n",
       "    <tr>\n",
       "      <th>2</th>\n",
       "      <td>APL_NPB1PtWells</td>\n",
       "      <td>Buoy</td>\n",
       "      <td>Profiling Buoy at Point Wells - Central Sound</td>\n",
       "      <td>ORCA Point Wells</td>\n",
       "      <td>npb1</td>\n",
       "      <td>US/Pacific</td>\n",
       "      <td>47.7612</td>\n",
       "      <td>-122.3972</td>\n",
       "      <td>0</td>\n",
       "      <td>Washington</td>\n",
       "      <td>...</td>\n",
       "      <td>ORCA-UW</td>\n",
       "      <td>http://orca.ocean.washington.edu</td>\n",
       "      <td>Academic</td>\n",
       "      <td>NANOOS-APL</td>\n",
       "      <td>NaN</td>\n",
       "      <td>http://orca.ocean.washington.edu/data_pointWel...</td>\n",
       "      <td>buoy_default</td>\n",
       "      <td>online</td>\n",
       "      <td>1454396400</td>\n",
       "      <td>POINT (-122.3972 47.7612)</td>\n",
       "    </tr>\n",
       "    <tr>\n",
       "      <th>3</th>\n",
       "      <td>APL_NPB2Carr</td>\n",
       "      <td>Buoy</td>\n",
       "      <td>Profiling Buoy at Carr Inlet - South Sound</td>\n",
       "      <td>ORCA Carr Inlet</td>\n",
       "      <td>npb2</td>\n",
       "      <td>US/Pacific</td>\n",
       "      <td>47.2800</td>\n",
       "      <td>-122.7300</td>\n",
       "      <td>0</td>\n",
       "      <td>Washington</td>\n",
       "      <td>...</td>\n",
       "      <td>ORCA-UW</td>\n",
       "      <td>http://orca.ocean.washington.edu</td>\n",
       "      <td>Academic</td>\n",
       "      <td>NANOOS-APL</td>\n",
       "      <td>NaN</td>\n",
       "      <td>http://orca.ocean.washington.edu/data_carrInle...</td>\n",
       "      <td>buoy_default</td>\n",
       "      <td>online</td>\n",
       "      <td>1430422200</td>\n",
       "      <td>POINT (-122.73 47.28)</td>\n",
       "    </tr>\n",
       "    <tr>\n",
       "      <th>4</th>\n",
       "      <td>CDIP_46211</td>\n",
       "      <td>Buoy</td>\n",
       "      <td>Station 46211 - Grays Harbor (036)</td>\n",
       "      <td>CDIP Grays Harbor</td>\n",
       "      <td>46211</td>\n",
       "      <td>US/Pacific</td>\n",
       "      <td>46.8580</td>\n",
       "      <td>-124.2440</td>\n",
       "      <td>0</td>\n",
       "      <td>Washington</td>\n",
       "      <td>...</td>\n",
       "      <td>CDIP-Scripps</td>\n",
       "      <td>http://cdip.ucsd.edu/</td>\n",
       "      <td>Academic</td>\n",
       "      <td>NDBC</td>\n",
       "      <td>NaN</td>\n",
       "      <td>http://cdip.ucsd.edu/themes/s?u2=s:036:st:1&amp;d2=p9</td>\n",
       "      <td>buoy_default</td>\n",
       "      <td>online</td>\n",
       "      <td>1458676800</td>\n",
       "      <td>POINT (-124.244 46.858)</td>\n",
       "    </tr>\n",
       "  </tbody>\n",
       "</table>\n",
       "<p>5 rows × 22 columns</p>\n",
       "</div>"
      ],
      "text/plain": [
       "    platform_label platform_type  \\\n",
       "0        APL_Chaba          Buoy   \n",
       "1         APL_Nemo          Buoy   \n",
       "2  APL_NPB1PtWells          Buoy   \n",
       "3     APL_NPB2Carr          Buoy   \n",
       "4       CDIP_46211          Buoy   \n",
       "\n",
       "                                                name  \\\n",
       "0         ?há?ba· UW/NANOOS Moored Buoy near La Push   \n",
       "1  UW/NANOOS NEMO Subsurface profiler with NOAA E...   \n",
       "2      Profiling Buoy at Point Wells - Central Sound   \n",
       "3         Profiling Buoy at Carr Inlet - South Sound   \n",
       "4                 Station 46211 - Grays Harbor (036)   \n",
       "\n",
       "                 short_name datasrc_platform_cd data_timezone      lat  \\\n",
       "0            APL-UW ?há?ba·            aplchaba    US/Pacific  47.9672   \n",
       "1  APL-UW NEMO-ESP Profiler             aplnemo    US/Pacific  47.9740   \n",
       "2          ORCA Point Wells                npb1    US/Pacific  47.7612   \n",
       "3           ORCA Carr Inlet                npb2    US/Pacific  47.2800   \n",
       "4         CDIP Grays Harbor               46211    US/Pacific  46.8580   \n",
       "\n",
       "        lon  bounding_area_hue       state            ...              \\\n",
       "0 -124.9502                  0  Washington            ...               \n",
       "1 -124.9550                  0  Washington            ...               \n",
       "2 -122.3972                  0  Washington            ...               \n",
       "3 -122.7300                  0  Washington            ...               \n",
       "4 -124.2440                  0  Washington            ...               \n",
       "\n",
       "       provider                      provider_url provider_type  data_source  \\\n",
       "0        APL-UW            http://www.nanoos.org/      Academic  NANOOS-APL2   \n",
       "1        APL-UW             http://www.nanoos.org      Academic  NANOOS-APL3   \n",
       "2       ORCA-UW  http://orca.ocean.washington.edu      Academic   NANOOS-APL   \n",
       "3       ORCA-UW  http://orca.ocean.washington.edu      Academic   NANOOS-APL   \n",
       "4  CDIP-Scripps             http://cdip.ucsd.edu/      Academic         NDBC   \n",
       "\n",
       "          data_source_url                                                url  \\\n",
       "0  http://www.nanoos.org/  http://wavechasers.apl.washington.edu/projects...   \n",
       "1   http://www.nanoos.org                                                NaN   \n",
       "2                     NaN  http://orca.ocean.washington.edu/data_pointWel...   \n",
       "3                     NaN  http://orca.ocean.washington.edu/data_carrInle...   \n",
       "4                     NaN  http://cdip.ucsd.edu/themes/s?u2=s:036:st:1&d2=p9   \n",
       "\n",
       "           icon  status status_date                   geometry  \n",
       "0  buoy_default  online  1458680400  POINT (-124.9502 47.9672)  \n",
       "1  buoy_default  online  1464030000    POINT (-124.955 47.974)  \n",
       "2  buoy_default  online  1454396400  POINT (-122.3972 47.7612)  \n",
       "3  buoy_default  online  1430422200      POINT (-122.73 47.28)  \n",
       "4  buoy_default  online  1458676800    POINT (-124.244 46.858)  \n",
       "\n",
       "[5 rows x 22 columns]"
      ]
     },
     "execution_count": 8,
     "metadata": {},
     "output_type": "execute_result"
    }
   ],
   "source": [
    "gdf.head()"
   ]
  },
  {
   "cell_type": "code",
   "execution_count": 9,
   "metadata": {
    "collapsed": false
   },
   "outputs": [
    {
     "data": {
      "text/plain": [
       "{'ARCGEN': 'r',\n",
       " 'AeronavFAA': 'r',\n",
       " 'BNA': 'raw',\n",
       " 'DGN': 'raw',\n",
       " 'DXF': 'raw',\n",
       " 'ESRI Shapefile': 'raw',\n",
       " 'FileGDB': 'raw',\n",
       " 'GMT': 'raw',\n",
       " 'GPKG': 'rw',\n",
       " 'GPSTrackMaker': 'raw',\n",
       " 'GPX': 'raw',\n",
       " 'GeoJSON': 'rw',\n",
       " 'Idrisi': 'r',\n",
       " 'MapInfo File': 'raw',\n",
       " 'OpenFileGDB': 'r',\n",
       " 'PCIDSK': 'r',\n",
       " 'PDS': 'r',\n",
       " 'SEGY': 'r',\n",
       " 'SUA': 'r'}"
      ]
     },
     "execution_count": 9,
     "metadata": {},
     "output_type": "execute_result"
    }
   ],
   "source": [
    "fio.supported_drivers"
   ]
  },
  {
   "cell_type": "code",
   "execution_count": 10,
   "metadata": {
    "collapsed": false
   },
   "outputs": [],
   "source": [
    "def common_geom_type(df):\n",
    "    # Need to check geom_types before we write to file...\n",
    "    # Some (most?) providers expect a single geometry type:\n",
    "    # Point, LineString, or Polygon\n",
    "    geom_types = df.geometry.geom_type.unique()\n",
    "\n",
    "    from os.path import commonprefix   # To find longest common prefix\n",
    "    geom_type = commonprefix([g[::-1] for g in geom_types if g])[::-1]  # Reverse\n",
    "    if not geom_type:\n",
    "        geom_type = None\n",
    "\n",
    "    return geom_type"
   ]
  },
  {
   "cell_type": "code",
   "execution_count": 11,
   "metadata": {
    "collapsed": false
   },
   "outputs": [],
   "source": [
    "def infer_schema(df):\n",
    "    try:\n",
    "        from collections import OrderedDict\n",
    "    except ImportError:\n",
    "        from ordereddict import OrderedDict\n",
    "\n",
    "    def convert_type(in_type):\n",
    "        if in_type == object:\n",
    "            return 'str'\n",
    "        out_type = type(np.asscalar(np.zeros(1, in_type))).__name__\n",
    "        if out_type == 'long':\n",
    "            out_type = 'int'\n",
    "        return out_type\n",
    "\n",
    "    properties = OrderedDict([\n",
    "        (col, convert_type(_type)) for col, _type in\n",
    "        zip(df.columns, df.dtypes) if col != df._geometry_column_name\n",
    "    ])\n",
    "\n",
    "    geom_type = common_geom_type(df)\n",
    "    if not geom_type:\n",
    "        raise ValueError(\"Geometry column cannot contain mutiple \"\n",
    "                         \"geometry types when writing to file.\")\n",
    "\n",
    "    schema = {'geometry': geom_type, 'properties': properties}\n",
    "\n",
    "    return schema"
   ]
  },
  {
   "cell_type": "code",
   "execution_count": 12,
   "metadata": {
    "collapsed": false
   },
   "outputs": [
    {
     "data": {
      "text/plain": [
       "{'geometry': 'Point',\n",
       " 'properties': OrderedDict([('platform_label', 'str'),\n",
       "              ('platform_type', 'str'),\n",
       "              ('name', 'str'),\n",
       "              ('short_name', 'str'),\n",
       "              ('datasrc_platform_cd', 'str'),\n",
       "              ('data_timezone', 'str'),\n",
       "              ('lat', 'float'),\n",
       "              ('lon', 'float'),\n",
       "              ('bounding_area_hue', 'int'),\n",
       "              ('state', 'str'),\n",
       "              ('sub_region', 'float'),\n",
       "              ('region', 'str'),\n",
       "              ('provider', 'str'),\n",
       "              ('provider_url', 'str'),\n",
       "              ('provider_type', 'str'),\n",
       "              ('data_source', 'str'),\n",
       "              ('data_source_url', 'str'),\n",
       "              ('url', 'str'),\n",
       "              ('icon', 'str'),\n",
       "              ('status', 'str'),\n",
       "              ('status_date', 'int')])}"
      ]
     },
     "execution_count": 12,
     "metadata": {},
     "output_type": "execute_result"
    }
   ],
   "source": [
    "schema = infer_schema(gdf)\n",
    "schema"
   ]
  },
  {
   "cell_type": "code",
   "execution_count": 13,
   "metadata": {
    "collapsed": false
   },
   "outputs": [
    {
     "data": {
      "text/plain": [
       "{'geometry': {'coordinates': (-124.9502, 47.9672), 'type': 'Point'},\n",
       " 'id': '0',\n",
       " 'properties': {'bounding_area_hue': 0,\n",
       "  'data_source': 'NANOOS-APL2',\n",
       "  'data_source_url': 'http://www.nanoos.org/',\n",
       "  'data_timezone': 'US/Pacific',\n",
       "  'datasrc_platform_cd': 'aplchaba',\n",
       "  'icon': 'buoy_default',\n",
       "  'lat': 47.9672,\n",
       "  'lon': -124.9502,\n",
       "  'name': '?h\\xc3\\xa1?ba\\xc2\\xb7 UW/NANOOS Moored Buoy near La Push',\n",
       "  'platform_label': 'APL_Chaba',\n",
       "  'platform_type': 'Buoy',\n",
       "  'provider': 'APL-UW',\n",
       "  'provider_type': 'Academic',\n",
       "  'provider_url': 'http://www.nanoos.org/',\n",
       "  'region': 'La Push',\n",
       "  'short_name': 'APL-UW ?h\\xc3\\xa1?ba\\xc2\\xb7',\n",
       "  'state': 'Washington',\n",
       "  'status': 'online',\n",
       "  'status_date': 1458680400,\n",
       "  'sub_region': None,\n",
       "  'url': 'http://wavechasers.apl.washington.edu/projects/active-projects/nemo'},\n",
       " 'type': 'Feature'}"
      ]
     },
     "execution_count": 13,
     "metadata": {},
     "output_type": "execute_result"
    }
   ],
   "source": [
    "features = [g for g in gdf.iterfeatures()]\n",
    "features[0]"
   ]
  },
  {
   "cell_type": "code",
   "execution_count": 14,
   "metadata": {
    "collapsed": false
   },
   "outputs": [],
   "source": [
    "def createGPKG(features,schema,crs):\n",
    "    \n",
    "    #out_pth = '/home/geoserver2_7/gs_data_dir/data/geopackages/'\n",
    "    out_pth = '/home/lsetiawan/Desktop'\n",
    "    \n",
    "    with fio.open(os.path.join(out_pth,'nanoos_nvs.gpkg'), 'w', driver=\"GPKG\", schema = schema,crs_wkt=crs) as c:\n",
    "        c.writerecords(features)"
   ]
  },
  {
   "cell_type": "code",
   "execution_count": 15,
   "metadata": {
    "collapsed": false
   },
   "outputs": [
    {
     "name": "stdout",
     "output_type": "stream",
     "text": [
      "Created\n"
     ]
    },
    {
     "ename": "TypeError",
     "evalue": "function takes exactly 5 arguments (1 given)",
     "output_type": "error",
     "traceback": [
      "\u001b[1;31m---------------------------------------------------------------------------\u001b[0m",
      "\u001b[1;31mTypeError\u001b[0m                                 Traceback (most recent call last)",
      "\u001b[1;32m<ipython-input-15-f5fad856c96d>\u001b[0m in \u001b[0;36m<module>\u001b[1;34m()\u001b[0m\n\u001b[0;32m      4\u001b[0m \u001b[1;33m\u001b[0m\u001b[0m\n\u001b[0;32m      5\u001b[0m \u001b[1;32mprint\u001b[0m\u001b[1;33m(\u001b[0m\u001b[1;34m'Created'\u001b[0m\u001b[1;33m)\u001b[0m\u001b[1;33m\u001b[0m\u001b[0m\n\u001b[1;32m----> 6\u001b[1;33m \u001b[0mcreateGPKG\u001b[0m\u001b[1;33m(\u001b[0m\u001b[0mfeatures\u001b[0m\u001b[1;33m,\u001b[0m\u001b[0mschema\u001b[0m\u001b[1;33m,\u001b[0m\u001b[0mcrs\u001b[0m\u001b[1;33m)\u001b[0m\u001b[1;33m\u001b[0m\u001b[0m\n\u001b[0m",
      "\u001b[1;32m<ipython-input-14-852ddb0dfe7f>\u001b[0m in \u001b[0;36mcreateGPKG\u001b[1;34m(features, schema, crs)\u001b[0m\n\u001b[0;32m      5\u001b[0m \u001b[1;33m\u001b[0m\u001b[0m\n\u001b[0;32m      6\u001b[0m     \u001b[1;32mwith\u001b[0m \u001b[0mfio\u001b[0m\u001b[1;33m.\u001b[0m\u001b[0mopen\u001b[0m\u001b[1;33m(\u001b[0m\u001b[0mos\u001b[0m\u001b[1;33m.\u001b[0m\u001b[0mpath\u001b[0m\u001b[1;33m.\u001b[0m\u001b[0mjoin\u001b[0m\u001b[1;33m(\u001b[0m\u001b[0mout_pth\u001b[0m\u001b[1;33m,\u001b[0m\u001b[1;34m'nanoos_nvs.gpkg'\u001b[0m\u001b[1;33m)\u001b[0m\u001b[1;33m,\u001b[0m \u001b[1;34m'w'\u001b[0m\u001b[1;33m,\u001b[0m \u001b[0mdriver\u001b[0m\u001b[1;33m=\u001b[0m\u001b[1;34m\"GPKG\"\u001b[0m\u001b[1;33m,\u001b[0m \u001b[0mschema\u001b[0m \u001b[1;33m=\u001b[0m \u001b[0mschema\u001b[0m\u001b[1;33m,\u001b[0m\u001b[0mcrs_wkt\u001b[0m\u001b[1;33m=\u001b[0m\u001b[0mcrs\u001b[0m\u001b[1;33m)\u001b[0m \u001b[1;32mas\u001b[0m \u001b[0mc\u001b[0m\u001b[1;33m:\u001b[0m\u001b[1;33m\u001b[0m\u001b[0m\n\u001b[1;32m----> 7\u001b[1;33m         \u001b[0mc\u001b[0m\u001b[1;33m.\u001b[0m\u001b[0mwriterecords\u001b[0m\u001b[1;33m(\u001b[0m\u001b[0mfeatures\u001b[0m\u001b[1;33m)\u001b[0m\u001b[1;33m\u001b[0m\u001b[0m\n\u001b[0m",
      "\u001b[1;32m/home/lsetiawan/anaconda2/envs/geo/lib/python2.7/site-packages/fiona/collection.pyc\u001b[0m in \u001b[0;36mwriterecords\u001b[1;34m(self, records)\u001b[0m\n\u001b[0;32m    329\u001b[0m         \u001b[1;32mif\u001b[0m \u001b[0mself\u001b[0m\u001b[1;33m.\u001b[0m\u001b[0mmode\u001b[0m \u001b[1;32mnot\u001b[0m \u001b[1;32min\u001b[0m \u001b[1;33m(\u001b[0m\u001b[1;34m'a'\u001b[0m\u001b[1;33m,\u001b[0m \u001b[1;34m'w'\u001b[0m\u001b[1;33m)\u001b[0m\u001b[1;33m:\u001b[0m\u001b[1;33m\u001b[0m\u001b[0m\n\u001b[0;32m    330\u001b[0m             \u001b[1;32mraise\u001b[0m \u001b[0mIOError\u001b[0m\u001b[1;33m(\u001b[0m\u001b[1;34m\"collection not open for writing\"\u001b[0m\u001b[1;33m)\u001b[0m\u001b[1;33m\u001b[0m\u001b[0m\n\u001b[1;32m--> 331\u001b[1;33m         \u001b[0mself\u001b[0m\u001b[1;33m.\u001b[0m\u001b[0msession\u001b[0m\u001b[1;33m.\u001b[0m\u001b[0mwriterecs\u001b[0m\u001b[1;33m(\u001b[0m\u001b[0mrecords\u001b[0m\u001b[1;33m,\u001b[0m \u001b[0mself\u001b[0m\u001b[1;33m)\u001b[0m\u001b[1;33m\u001b[0m\u001b[0m\n\u001b[0m\u001b[0;32m    332\u001b[0m         \u001b[0mself\u001b[0m\u001b[1;33m.\u001b[0m\u001b[0m_len\u001b[0m \u001b[1;33m=\u001b[0m \u001b[0mself\u001b[0m\u001b[1;33m.\u001b[0m\u001b[0msession\u001b[0m\u001b[1;33m.\u001b[0m\u001b[0mget_length\u001b[0m\u001b[1;33m(\u001b[0m\u001b[1;33m)\u001b[0m\u001b[1;33m\u001b[0m\u001b[0m\n\u001b[0;32m    333\u001b[0m         \u001b[0mself\u001b[0m\u001b[1;33m.\u001b[0m\u001b[0m_bounds\u001b[0m \u001b[1;33m=\u001b[0m \u001b[0mself\u001b[0m\u001b[1;33m.\u001b[0m\u001b[0msession\u001b[0m\u001b[1;33m.\u001b[0m\u001b[0mget_extent\u001b[0m\u001b[1;33m(\u001b[0m\u001b[1;33m)\u001b[0m\u001b[1;33m\u001b[0m\u001b[0m\n",
      "\u001b[1;32mfiona/ogrext.pyx\u001b[0m in \u001b[0;36mfiona.ogrext.WritingSession.writerecs (fiona/ogrext.c:17078)\u001b[1;34m()\u001b[0m\n",
      "\u001b[1;32mfiona/ogrext.pyx\u001b[0m in \u001b[0;36mfiona.ogrext.OGRFeatureBuilder.build (fiona/ogrext.c:6587)\u001b[1;34m()\u001b[0m\n",
      "\u001b[1;31mTypeError\u001b[0m: function takes exactly 5 arguments (1 given)"
     ]
    }
   ],
   "source": [
    "#if os.path.exists('/home/lsetiawan/Desktop/nanoos_nvs.gpkg'):\n",
    "#    print('Deleted')\n",
    "#    os.remove('/home/lsetiawan/Desktop/nanoos_nvs.gpkg')\n",
    "\n",
    "print('Created')\n",
    "createGPKG(features,schema,crs)"
   ]
  },
  {
   "cell_type": "code",
   "execution_count": null,
   "metadata": {
    "collapsed": false
   },
   "outputs": [],
   "source": []
  }
 ],
 "metadata": {
  "kernelspec": {
   "display_name": "Python 2",
   "language": "python",
   "name": "python2"
  },
  "language_info": {
   "codemirror_mode": {
    "name": "ipython",
    "version": 2
   },
   "file_extension": ".py",
   "mimetype": "text/x-python",
   "name": "python",
   "nbconvert_exporter": "python",
   "pygments_lexer": "ipython2",
   "version": "2.7.12"
  },
  "widgets": {
   "state": {},
   "version": "1.1.2"
  }
 },
 "nbformat": 4,
 "nbformat_minor": 0
}
