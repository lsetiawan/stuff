{
 "cells": [
  {
   "cell_type": "markdown",
   "metadata": {},
   "source": [
    "# SOS to WMS\n",
    "6/2/2016"
   ]
  },
  {
   "cell_type": "code",
   "execution_count": 1,
   "metadata": {
    "collapsed": false
   },
   "outputs": [
    {
     "name": "stderr",
     "output_type": "stream",
     "text": [
      "/home/lsetiawan/anaconda2/envs/uwapl_em_mc_1aui/lib/python2.7/site-packages/matplotlib/font_manager.py:273: UserWarning: Matplotlib is building the font cache using fc-list. This may take a moment.\n",
      "  warnings.warn('Matplotlib is building the font cache using fc-list. This may take a moment.')\n"
     ]
    }
   ],
   "source": [
    "%matplotlib inline\n",
    "import matplotlib.pyplot as plt\n",
    "\n",
    "from datetime import datetime, timedelta\n",
    "import pytz\n",
    "from urllib import urlencode\n",
    "\n",
    "from pyoos.collectors.ioos.swe_sos import IoosSweSos\n",
    "from pyoos.parsers.ioos.describe_sensor import IoosDescribeSensor\n",
    "\n",
    "from owslib.sos import SensorObservationService\n",
    "from owslib.swe.sensor.sml import SensorML, Contact\n",
    "from owslib.util import (testXMLValue, testXMLAttribute, nspath_eval, \n",
    "                         xmltag_split, xml_to_dict, dict_union, extract_xml_list)\n",
    "from owslib.namespaces import Namespaces\n",
    "\n",
    "from geojson import Point, Feature, FeatureCollection\n",
    "import numpy as np\n",
    "import pandas as pd\n",
    "import geopandas as gpd\n",
    "\n",
    "import subprocess\n",
    "import os\n",
    "\n",
    "# Import the Catalog module\n",
    "from geoserver.catalog import Catalog\n",
    "\n",
    "\n",
    "def get_namespaces():\n",
    "    n = Namespaces()\n",
    "    # namespaces = n.get_namespaces([\"sml\", \"gml\", \"xlink\"])\n",
    "    namespaces = n.get_namespaces([\"sml\", \"gml\", \"xlink\", \"swe\"])\n",
    "    namespaces[\"ism\"] = \"urn:us:gov:ic:ism:v2\"\n",
    "    return namespaces\n",
    "\n",
    "namespaces = get_namespaces()\n",
    "\n",
    "def nsp(path):\n",
    "    return nspath_eval(path, namespaces)"
   ]
  },
  {
   "cell_type": "code",
   "execution_count": 2,
   "metadata": {
    "collapsed": false
   },
   "outputs": [
    {
     "data": {
      "application/json": {
       "Software versions": [
        {
         "module": "Python",
         "version": "2.7.11 64bit [GCC 4.4.7 20120313 (Red Hat 4.4.7-1)]"
        },
        {
         "module": "IPython",
         "version": "4.2.0"
        },
        {
         "module": "OS",
         "version": "Linux 4.2.0 36 generic x86_64 with debian jessie sid"
        },
        {
         "module": "numpy",
         "version": "1.10.4"
        },
        {
         "module": "pandas",
         "version": "0.18.1"
        },
        {
         "module": "owslib",
         "version": "0.11.0"
        },
        {
         "module": "pyoos",
         "version": "0.7.0"
        }
       ]
      },
      "text/html": [
       "<table><tr><th>Software</th><th>Version</th></tr><tr><td>Python</td><td>2.7.11 64bit [GCC 4.4.7 20120313 (Red Hat 4.4.7-1)]</td></tr><tr><td>IPython</td><td>4.2.0</td></tr><tr><td>OS</td><td>Linux 4.2.0 36 generic x86_64 with debian jessie sid</td></tr><tr><td>numpy</td><td>1.10.4</td></tr><tr><td>pandas</td><td>0.18.1</td></tr><tr><td>owslib</td><td>0.11.0</td></tr><tr><td>pyoos</td><td>0.7.0</td></tr><tr><td colspan='2'>Thu Jun 02 18:22:10 2016 PDT</td></tr></table>"
      ],
      "text/latex": [
       "\\begin{tabular}{|l|l|}\\hline\n",
       "{\\bf Software} & {\\bf Version} \\\\ \\hline\\hline\n",
       "Python & 2.7.11 64bit [GCC 4.4.7 20120313 (Red Hat 4.4.7-1)] \\\\ \\hline\n",
       "IPython & 4.2.0 \\\\ \\hline\n",
       "OS & Linux 4.2.0 36 generic x86\\_64 with debian jessie sid \\\\ \\hline\n",
       "numpy & 1.10.4 \\\\ \\hline\n",
       "pandas & 0.18.1 \\\\ \\hline\n",
       "owslib & 0.11.0 \\\\ \\hline\n",
       "pyoos & 0.7.0 \\\\ \\hline\n",
       "\\hline \\multicolumn{2}{|l|}{Thu Jun 02 18:22:10 2016 PDT} \\\\ \\hline\n",
       "\\end{tabular}\n"
      ],
      "text/plain": [
       "Software versions\n",
       "Python 2.7.11 64bit [GCC 4.4.7 20120313 (Red Hat 4.4.7-1)]\n",
       "IPython 4.2.0\n",
       "OS Linux 4.2.0 36 generic x86_64 with debian jessie sid\n",
       "numpy 1.10.4\n",
       "pandas 0.18.1\n",
       "owslib 0.11.0\n",
       "pyoos 0.7.0\n",
       "Thu Jun 02 18:22:10 2016 PDT"
      ]
     },
     "execution_count": 2,
     "metadata": {},
     "output_type": "execute_result"
    }
   ],
   "source": [
    "# Ran with ioos conda env\n",
    "%load_ext version_information\n",
    "%version_information numpy, pandas, owslib, pyoos"
   ]
  },
  {
   "cell_type": "markdown",
   "metadata": {},
   "source": [
    "## NANOOS SOS"
   ]
  },
  {
   "cell_type": "code",
   "execution_count": 3,
   "metadata": {
    "collapsed": true
   },
   "outputs": [],
   "source": [
    "sosurl = 'http://data.nanoos.org/52nsos/sos/kvp'\n",
    "\n",
    "collector52n = IoosSweSos(sosurl)\n",
    "offerings52n = collector52n.server.offerings"
   ]
  },
  {
   "cell_type": "markdown",
   "metadata": {},
   "source": [
    "## Harvest All Stations"
   ]
  },
  {
   "cell_type": "code",
   "execution_count": 4,
   "metadata": {
    "collapsed": false
   },
   "outputs": [
    {
     "data": {
      "text/plain": [
       "54"
      ]
     },
     "execution_count": 4,
     "metadata": {},
     "output_type": "execute_result"
    }
   ],
   "source": [
    "station_urn_lst = [urn.name for urn in offerings52n if urn.name.split(':')[-1] != 'all']\n",
    "len(station_urn_lst)"
   ]
  },
  {
   "cell_type": "code",
   "execution_count": 5,
   "metadata": {
    "collapsed": true
   },
   "outputs": [],
   "source": [
    "collector52n.features = station_urn_lst\n",
    "sensorml_resp_lst = collector52n.metadata(timeout=200)"
   ]
  },
  {
   "cell_type": "code",
   "execution_count": 6,
   "metadata": {
    "collapsed": true
   },
   "outputs": [],
   "source": [
    "station_rec_lst = []\n",
    "for station_idx, station_urn in enumerate(station_urn_lst):\n",
    "    ds = IoosDescribeSensor(sensorml_resp_lst[station_idx]._root)\n",
    "\n",
    "    pos = testXMLValue(ds.system.location.find(nsp('gml:Point/gml:pos')))\n",
    "    lat, lon = pos.split()\n",
    "    station_rec = dict(\n",
    "        id=ds.id,\n",
    "        longitude=float(lon),\n",
    "        latitude=float(lat),\n",
    "        station_urn_id=ds.id,\n",
    "        shortName=ds.shortName,\n",
    "        longName=ds.longName,\n",
    "        platformType=ds.platformType,\n",
    "        starting=datetime.isoformat(ds.starting),\n",
    "        ending=datetime.isoformat(ds.ending)\n",
    "    )\n",
    "    #     variables_lst=pyoos_ds.variables\n",
    "    \n",
    "    station_rec_lst.append(station_rec)"
   ]
  },
  {
   "cell_type": "code",
   "execution_count": 7,
   "metadata": {
    "collapsed": false
   },
   "outputs": [
    {
     "data": {
      "text/plain": [
       "[{'ending': '2016-06-02T23:51:15+00:00',\n",
       "  'id': 'urn:ioos:station:nanoos:apl_chaba',\n",
       "  'latitude': 47.96590042114258,\n",
       "  'longName': u'(APL-UW) \\xc4\\u2020h\\xc3\\xa1\\xca\\u201dba\\xc2\\xb7 UW/NANOOS Moored Buoy near La Push',\n",
       "  'longitude': -124.94920349121094,\n",
       "  'platformType': 'moored_buoy',\n",
       "  'shortName': u'APL-UW \\xc4\\u2020h\\xc3\\xa1\\xca\\u201dba\\xc2\\xb7',\n",
       "  'starting': '2016-03-19T17:41:37+00:00',\n",
       "  'station_urn_id': 'urn:ioos:station:nanoos:apl_chaba'},\n",
       " {'ending': '2016-06-02T19:16:52+00:00',\n",
       "  'id': 'urn:ioos:station:nanoos:apl_npb1ptwells',\n",
       "  'latitude': 47.761199951171875,\n",
       "  'longName': '(APL-UW) LSG NPB-1 Profiling Buoy at Pt. Wells',\n",
       "  'longitude': -122.39720153808594,\n",
       "  'platformType': 'moored_buoy',\n",
       "  'shortName': 'APL-UW NPB-1',\n",
       "  'starting': '2015-12-04T06:28:48+00:00',\n",
       "  'station_urn_id': 'urn:ioos:station:nanoos:apl_npb1ptwells'},\n",
       " {'ending': '2016-06-03T00:54:22+00:00',\n",
       "  'id': 'urn:ioos:station:nanoos:apl_npb2carr',\n",
       "  'latitude': 47.279998779296875,\n",
       "  'longName': '(APL-UW) LSG NPB-2 Profiling Buoy at Carr Inlet',\n",
       "  'longitude': -122.7300033569336,\n",
       "  'platformType': 'moored_buoy',\n",
       "  'shortName': 'APL-UW NPB-2',\n",
       "  'starting': '2015-12-07T20:09:44+00:00',\n",
       "  'station_urn_id': 'urn:ioos:station:nanoos:apl_npb2carr'}]"
      ]
     },
     "execution_count": 7,
     "metadata": {},
     "output_type": "execute_result"
    }
   ],
   "source": [
    "station_rec_lst[0:3]"
   ]
  },
  {
   "cell_type": "code",
   "execution_count": 8,
   "metadata": {
    "collapsed": false
   },
   "outputs": [],
   "source": [
    "# geojson features and feature collection\n",
    "features = []\n",
    "for rec in station_rec_lst:\n",
    "    feature = Feature(geometry=Point((rec['longitude'], rec['latitude'])), \n",
    "                      id=rec['id'],\n",
    "                      properties=rec)\n",
    "    features.append(feature)\n",
    "    \n",
    "stations_featcoll = FeatureCollection(features)\n",
    "#stations_featcoll"
   ]
  },
  {
   "cell_type": "markdown",
   "metadata": {},
   "source": [
    "## Load into geopandas"
   ]
  },
  {
   "cell_type": "code",
   "execution_count": 9,
   "metadata": {
    "collapsed": false
   },
   "outputs": [
    {
     "data": {
      "text/plain": [
       "54"
      ]
     },
     "execution_count": 9,
     "metadata": {},
     "output_type": "execute_result"
    }
   ],
   "source": [
    "# Assign CRS, retrieved from epsg.io, the example below is EPSG:4326\n",
    "crs = 'GEOGCS[\"WGS 84\",DATUM[\"WGS_1984\",SPHEROID[\"WGS 84\",6378137,298.257223563,AUTHORITY[\"EPSG\",\"7030\"]],AUTHORITY[\"EPSG\",\"6326\"]],PRIMEM[\"Greenwich\",0,AUTHORITY[\"EPSG\",\"8901\"]],UNIT[\"degree\",0.0174532925199433,AUTHORITY[\"EPSG\",\"9122\"]],AUTHORITY[\"EPSG\",\"4326\"]]'\n",
    "\n",
    "stations_gdf = gpd.GeoDataFrame.from_features(features=stations_featcoll['features'],crs=crs)\n",
    "len(stations_gdf)"
   ]
  },
  {
   "cell_type": "code",
   "execution_count": 10,
   "metadata": {
    "collapsed": false
   },
   "outputs": [
    {
     "data": {
      "text/html": [
       "<div>\n",
       "<table border=\"1\" class=\"dataframe\">\n",
       "  <thead>\n",
       "    <tr style=\"text-align: right;\">\n",
       "      <th></th>\n",
       "      <th>ending</th>\n",
       "      <th>geometry</th>\n",
       "      <th>id</th>\n",
       "      <th>latitude</th>\n",
       "      <th>longName</th>\n",
       "      <th>longitude</th>\n",
       "      <th>platformType</th>\n",
       "      <th>shortName</th>\n",
       "      <th>starting</th>\n",
       "      <th>station_urn_id</th>\n",
       "    </tr>\n",
       "  </thead>\n",
       "  <tbody>\n",
       "    <tr>\n",
       "      <th>0</th>\n",
       "      <td>2016-06-02T23:51:15+00:00</td>\n",
       "      <td>POINT (-124.9492034912109 47.96590042114258)</td>\n",
       "      <td>urn:ioos:station:nanoos:apl_chaba</td>\n",
       "      <td>47.965900</td>\n",
       "      <td>(APL-UW) Ä†hÃ¡Ê”baÂ· UW/NANOOS Moored Buoy nea...</td>\n",
       "      <td>-124.949203</td>\n",
       "      <td>moored_buoy</td>\n",
       "      <td>APL-UW Ä†hÃ¡Ê”baÂ·</td>\n",
       "      <td>2016-03-19T17:41:37+00:00</td>\n",
       "      <td>urn:ioos:station:nanoos:apl_chaba</td>\n",
       "    </tr>\n",
       "    <tr>\n",
       "      <th>1</th>\n",
       "      <td>2016-06-02T19:16:52+00:00</td>\n",
       "      <td>POINT (-122.3972015380859 47.76119995117188)</td>\n",
       "      <td>urn:ioos:station:nanoos:apl_npb1ptwells</td>\n",
       "      <td>47.761200</td>\n",
       "      <td>(APL-UW) LSG NPB-1 Profiling Buoy at Pt. Wells</td>\n",
       "      <td>-122.397202</td>\n",
       "      <td>moored_buoy</td>\n",
       "      <td>APL-UW NPB-1</td>\n",
       "      <td>2015-12-04T06:28:48+00:00</td>\n",
       "      <td>urn:ioos:station:nanoos:apl_npb1ptwells</td>\n",
       "    </tr>\n",
       "    <tr>\n",
       "      <th>2</th>\n",
       "      <td>2016-06-03T00:54:22+00:00</td>\n",
       "      <td>POINT (-122.7300033569336 47.27999877929688)</td>\n",
       "      <td>urn:ioos:station:nanoos:apl_npb2carr</td>\n",
       "      <td>47.279999</td>\n",
       "      <td>(APL-UW) LSG NPB-2 Profiling Buoy at Carr Inlet</td>\n",
       "      <td>-122.730003</td>\n",
       "      <td>moored_buoy</td>\n",
       "      <td>APL-UW NPB-2</td>\n",
       "      <td>2015-12-07T20:09:44+00:00</td>\n",
       "      <td>urn:ioos:station:nanoos:apl_npb2carr</td>\n",
       "    </tr>\n",
       "    <tr>\n",
       "      <th>3</th>\n",
       "      <td>2013-08-16T21:54:00+00:00</td>\n",
       "      <td>POINT (-123.7740020751953 46.2047004699707)</td>\n",
       "      <td>urn:ioos:station:nanoos:cmop_coaof</td>\n",
       "      <td>46.204700</td>\n",
       "      <td>(CMOP) Waste water outfall (City of Astoria)</td>\n",
       "      <td>-123.774002</td>\n",
       "      <td>fixed</td>\n",
       "      <td>CMOP_Coaof</td>\n",
       "      <td>2013-08-16T21:54:00+00:00</td>\n",
       "      <td>urn:ioos:station:nanoos:cmop_coaof</td>\n",
       "    </tr>\n",
       "    <tr>\n",
       "      <th>4</th>\n",
       "      <td>2015-09-07T20:02:44+00:00</td>\n",
       "      <td>POINT (-123.9551010131836 46.22570037841797)</td>\n",
       "      <td>urn:ioos:station:nanoos:cmop_dsdma</td>\n",
       "      <td>46.225700</td>\n",
       "      <td>(CMOP) Desdemona Sands Light</td>\n",
       "      <td>-123.955101</td>\n",
       "      <td>fixed</td>\n",
       "      <td>CMOP_Dsdma</td>\n",
       "      <td>2014-08-01T00:14:12+00:00</td>\n",
       "      <td>urn:ioos:station:nanoos:cmop_dsdma</td>\n",
       "    </tr>\n",
       "  </tbody>\n",
       "</table>\n",
       "</div>"
      ],
      "text/plain": [
       "                      ending                                      geometry  \\\n",
       "0  2016-06-02T23:51:15+00:00  POINT (-124.9492034912109 47.96590042114258)   \n",
       "1  2016-06-02T19:16:52+00:00  POINT (-122.3972015380859 47.76119995117188)   \n",
       "2  2016-06-03T00:54:22+00:00  POINT (-122.7300033569336 47.27999877929688)   \n",
       "3  2013-08-16T21:54:00+00:00   POINT (-123.7740020751953 46.2047004699707)   \n",
       "4  2015-09-07T20:02:44+00:00  POINT (-123.9551010131836 46.22570037841797)   \n",
       "\n",
       "                                        id   latitude  \\\n",
       "0        urn:ioos:station:nanoos:apl_chaba  47.965900   \n",
       "1  urn:ioos:station:nanoos:apl_npb1ptwells  47.761200   \n",
       "2     urn:ioos:station:nanoos:apl_npb2carr  47.279999   \n",
       "3       urn:ioos:station:nanoos:cmop_coaof  46.204700   \n",
       "4       urn:ioos:station:nanoos:cmop_dsdma  46.225700   \n",
       "\n",
       "                                            longName   longitude platformType  \\\n",
       "0  (APL-UW) Ä†hÃ¡Ê”baÂ· UW/NANOOS Moored Buoy nea... -124.949203  moored_buoy   \n",
       "1     (APL-UW) LSG NPB-1 Profiling Buoy at Pt. Wells -122.397202  moored_buoy   \n",
       "2    (APL-UW) LSG NPB-2 Profiling Buoy at Carr Inlet -122.730003  moored_buoy   \n",
       "3       (CMOP) Waste water outfall (City of Astoria) -123.774002        fixed   \n",
       "4                       (CMOP) Desdemona Sands Light -123.955101        fixed   \n",
       "\n",
       "            shortName                   starting  \\\n",
       "0  APL-UW Ä†hÃ¡Ê”baÂ·  2016-03-19T17:41:37+00:00   \n",
       "1        APL-UW NPB-1  2015-12-04T06:28:48+00:00   \n",
       "2        APL-UW NPB-2  2015-12-07T20:09:44+00:00   \n",
       "3          CMOP_Coaof  2013-08-16T21:54:00+00:00   \n",
       "4          CMOP_Dsdma  2014-08-01T00:14:12+00:00   \n",
       "\n",
       "                            station_urn_id  \n",
       "0        urn:ioos:station:nanoos:apl_chaba  \n",
       "1  urn:ioos:station:nanoos:apl_npb1ptwells  \n",
       "2     urn:ioos:station:nanoos:apl_npb2carr  \n",
       "3       urn:ioos:station:nanoos:cmop_coaof  \n",
       "4       urn:ioos:station:nanoos:cmop_dsdma  "
      ]
     },
     "execution_count": 10,
     "metadata": {},
     "output_type": "execute_result"
    }
   ],
   "source": [
    "stations_gdf.head()"
   ]
  },
  {
   "cell_type": "markdown",
   "metadata": {},
   "source": [
    "## Write Geopandas dataframe to GeoPackage"
   ]
  },
  {
   "cell_type": "code",
   "execution_count": 11,
   "metadata": {
    "collapsed": false
   },
   "outputs": [
    {
     "name": "stdout",
     "output_type": "stream",
     "text": [
      "'nanoos_stations' Geopackage Exists.\n"
     ]
    }
   ],
   "source": [
    "if not os.path.exists('nanoos_stations.gpkg'):\n",
    "    stations_gdf.to_file('nanoos_stations.gpkg',driver='GPKG')\n",
    "else:\n",
    "    print \"'nanoos_stations' Geopackage Exists.\""
   ]
  },
  {
   "cell_type": "code",
   "execution_count": 12,
   "metadata": {
    "collapsed": false
   },
   "outputs": [
    {
     "data": {
      "text/html": [
       "<div>\n",
       "<table border=\"1\" class=\"dataframe\">\n",
       "  <thead>\n",
       "    <tr style=\"text-align: right;\">\n",
       "      <th></th>\n",
       "      <th>ending</th>\n",
       "      <th>geometry</th>\n",
       "      <th>id</th>\n",
       "      <th>latitude</th>\n",
       "      <th>longName</th>\n",
       "      <th>longitude</th>\n",
       "      <th>platformType</th>\n",
       "      <th>shortName</th>\n",
       "      <th>starting</th>\n",
       "      <th>station_urn_id</th>\n",
       "    </tr>\n",
       "  </thead>\n",
       "  <tbody>\n",
       "    <tr>\n",
       "      <th>0</th>\n",
       "      <td>2016-06-02T23:51:15+00:00</td>\n",
       "      <td>POINT (-124.9492034912109 47.96590042114258)</td>\n",
       "      <td>urn:ioos:station:nanoos:apl_chaba</td>\n",
       "      <td>47.965900</td>\n",
       "      <td>(APL-UW) Ä†hÃ¡Ê”baÂ· UW/NANOOS Moored Buoy nea...</td>\n",
       "      <td>-124.949203</td>\n",
       "      <td>moored_buoy</td>\n",
       "      <td>APL-UW Ä†hÃ¡Ê”baÂ·</td>\n",
       "      <td>2016-03-19T17:41:37+00:00</td>\n",
       "      <td>urn:ioos:station:nanoos:apl_chaba</td>\n",
       "    </tr>\n",
       "    <tr>\n",
       "      <th>1</th>\n",
       "      <td>2016-06-02T19:16:52+00:00</td>\n",
       "      <td>POINT (-122.3972015380859 47.76119995117188)</td>\n",
       "      <td>urn:ioos:station:nanoos:apl_npb1ptwells</td>\n",
       "      <td>47.761200</td>\n",
       "      <td>(APL-UW) LSG NPB-1 Profiling Buoy at Pt. Wells</td>\n",
       "      <td>-122.397202</td>\n",
       "      <td>moored_buoy</td>\n",
       "      <td>APL-UW NPB-1</td>\n",
       "      <td>2015-12-04T06:28:48+00:00</td>\n",
       "      <td>urn:ioos:station:nanoos:apl_npb1ptwells</td>\n",
       "    </tr>\n",
       "    <tr>\n",
       "      <th>2</th>\n",
       "      <td>2016-06-03T00:54:22+00:00</td>\n",
       "      <td>POINT (-122.7300033569336 47.27999877929688)</td>\n",
       "      <td>urn:ioos:station:nanoos:apl_npb2carr</td>\n",
       "      <td>47.279999</td>\n",
       "      <td>(APL-UW) LSG NPB-2 Profiling Buoy at Carr Inlet</td>\n",
       "      <td>-122.730003</td>\n",
       "      <td>moored_buoy</td>\n",
       "      <td>APL-UW NPB-2</td>\n",
       "      <td>2015-12-07T20:09:44+00:00</td>\n",
       "      <td>urn:ioos:station:nanoos:apl_npb2carr</td>\n",
       "    </tr>\n",
       "    <tr>\n",
       "      <th>3</th>\n",
       "      <td>2013-08-16T21:54:00+00:00</td>\n",
       "      <td>POINT (-123.7740020751953 46.2047004699707)</td>\n",
       "      <td>urn:ioos:station:nanoos:cmop_coaof</td>\n",
       "      <td>46.204700</td>\n",
       "      <td>(CMOP) Waste water outfall (City of Astoria)</td>\n",
       "      <td>-123.774002</td>\n",
       "      <td>fixed</td>\n",
       "      <td>CMOP_Coaof</td>\n",
       "      <td>2013-08-16T21:54:00+00:00</td>\n",
       "      <td>urn:ioos:station:nanoos:cmop_coaof</td>\n",
       "    </tr>\n",
       "    <tr>\n",
       "      <th>4</th>\n",
       "      <td>2015-09-07T20:02:44+00:00</td>\n",
       "      <td>POINT (-123.9551010131836 46.22570037841797)</td>\n",
       "      <td>urn:ioos:station:nanoos:cmop_dsdma</td>\n",
       "      <td>46.225700</td>\n",
       "      <td>(CMOP) Desdemona Sands Light</td>\n",
       "      <td>-123.955101</td>\n",
       "      <td>fixed</td>\n",
       "      <td>CMOP_Dsdma</td>\n",
       "      <td>2014-08-01T00:14:12+00:00</td>\n",
       "      <td>urn:ioos:station:nanoos:cmop_dsdma</td>\n",
       "    </tr>\n",
       "  </tbody>\n",
       "</table>\n",
       "</div>"
      ],
      "text/plain": [
       "                      ending                                      geometry  \\\n",
       "0  2016-06-02T23:51:15+00:00  POINT (-124.9492034912109 47.96590042114258)   \n",
       "1  2016-06-02T19:16:52+00:00  POINT (-122.3972015380859 47.76119995117188)   \n",
       "2  2016-06-03T00:54:22+00:00  POINT (-122.7300033569336 47.27999877929688)   \n",
       "3  2013-08-16T21:54:00+00:00   POINT (-123.7740020751953 46.2047004699707)   \n",
       "4  2015-09-07T20:02:44+00:00  POINT (-123.9551010131836 46.22570037841797)   \n",
       "\n",
       "                                        id   latitude  \\\n",
       "0        urn:ioos:station:nanoos:apl_chaba  47.965900   \n",
       "1  urn:ioos:station:nanoos:apl_npb1ptwells  47.761200   \n",
       "2     urn:ioos:station:nanoos:apl_npb2carr  47.279999   \n",
       "3       urn:ioos:station:nanoos:cmop_coaof  46.204700   \n",
       "4       urn:ioos:station:nanoos:cmop_dsdma  46.225700   \n",
       "\n",
       "                                            longName   longitude platformType  \\\n",
       "0  (APL-UW) Ä†hÃ¡Ê”baÂ· UW/NANOOS Moored Buoy nea... -124.949203  moored_buoy   \n",
       "1     (APL-UW) LSG NPB-1 Profiling Buoy at Pt. Wells -122.397202  moored_buoy   \n",
       "2    (APL-UW) LSG NPB-2 Profiling Buoy at Carr Inlet -122.730003  moored_buoy   \n",
       "3       (CMOP) Waste water outfall (City of Astoria) -123.774002        fixed   \n",
       "4                       (CMOP) Desdemona Sands Light -123.955101        fixed   \n",
       "\n",
       "            shortName                   starting  \\\n",
       "0  APL-UW Ä†hÃ¡Ê”baÂ·  2016-03-19T17:41:37+00:00   \n",
       "1        APL-UW NPB-1  2015-12-04T06:28:48+00:00   \n",
       "2        APL-UW NPB-2  2015-12-07T20:09:44+00:00   \n",
       "3          CMOP_Coaof  2013-08-16T21:54:00+00:00   \n",
       "4          CMOP_Dsdma  2014-08-01T00:14:12+00:00   \n",
       "\n",
       "                            station_urn_id  \n",
       "0        urn:ioos:station:nanoos:apl_chaba  \n",
       "1  urn:ioos:station:nanoos:apl_npb1ptwells  \n",
       "2     urn:ioos:station:nanoos:apl_npb2carr  \n",
       "3       urn:ioos:station:nanoos:cmop_coaof  \n",
       "4       urn:ioos:station:nanoos:cmop_dsdma  "
      ]
     },
     "execution_count": 12,
     "metadata": {},
     "output_type": "execute_result"
    }
   ],
   "source": [
    "# Check if the geopackage was written correctly\n",
    "test = gpd.read_file('nanoos_stations.gpkg')\n",
    "test.head()"
   ]
  },
  {
   "cell_type": "code",
   "execution_count": 13,
   "metadata": {
    "collapsed": false
   },
   "outputs": [],
   "source": [
    "# Retrieve catalog from Geoserver Instance via REST (REpresentational State Transfer)\n",
    "cat = Catalog(\"http://data.nanoos.org/geoserver2_8/rest\", username='####', password='####')"
   ]
  },
  {
   "cell_type": "code",
   "execution_count": 14,
   "metadata": {
    "collapsed": false
   },
   "outputs": [
    {
     "name": "stdout",
     "output_type": "stream",
     "text": [
      "[nanoos_dev @ http://data.nanoos.org/geoserver2_8/rest/workspaces/nanoos_dev.xml, czo @ http://data.nanoos.org/geoserver2_8/rest/workspaces/czo.xml, otnnep @ http://data.nanoos.org/geoserver2_8/rest/workspaces/otnnep.xml, nvs_assets @ http://data.nanoos.org/geoserver2_8/rest/workspaces/nvs_assets.xml, xan @ http://data.nanoos.org/geoserver2_8/rest/workspaces/xan.xml, basemaps @ http://data.nanoos.org/geoserver2_8/rest/workspaces/basemaps.xml, oa @ http://data.nanoos.org/geoserver2_8/rest/workspaces/oa.xml, crb @ http://data.nanoos.org/geoserver2_8/rest/workspaces/crb.xml, partners @ http://data.nanoos.org/geoserver2_8/rest/workspaces/partners.xml, nvs @ http://data.nanoos.org/geoserver2_8/rest/workspaces/nvs.xml, drb @ http://data.nanoos.org/geoserver2_8/rest/workspaces/drb.xml]\n"
     ]
    }
   ],
   "source": [
    "# Get list of workspaces\n",
    "print cat.get_workspaces()"
   ]
  },
  {
   "cell_type": "code",
   "execution_count": 15,
   "metadata": {
    "collapsed": false
   },
   "outputs": [
    {
     "name": "stdout",
     "output_type": "stream",
     "text": [
      "sitawr_watertemp_interp_wlabels\n",
      "pophatch\n",
      "sitawr_salinity_interp\n",
      "sitawr_chlorophyll_interp\n",
      "raster\n",
      "generic\n",
      "sitawr_barpress_css\n",
      "crbsubwatersheds_lbl\n",
      "capitals\n",
      "sitawr_watertemp_interp\n",
      "drb_subwatersheds_lbl\n",
      "stats_pop.css\n",
      "sitawr_watertemp_css\n",
      "sitawr_oxygenconc_css\n",
      "grass\n",
      "poi\n",
      "point\n",
      "cite_lakes\n",
      "crbrivers_lbl\n",
      "tiger_roads\n",
      "sitawr_oxygenconc_css2\n",
      "line\n",
      "restricted\n",
      "polygon\n",
      "population\n",
      "crbrivers\n",
      "burg\n",
      "poly_landmarks\n",
      "crbsubwatersheds\n",
      "green\n",
      "polygon_nofill\n",
      "dem\n",
      "simple_streams\n",
      "simple_roads\n",
      "giant_polygon\n",
      "rain\n",
      "sitawr_oxygenconc_interp\n",
      "nvs_buoy\n",
      "nanoos_assets\n"
     ]
    }
   ],
   "source": [
    "# Get all styles available in the Geoserver\n",
    "all_style = cat.get_styles()\n",
    "for style in all_style:\n",
    "    print style.name"
   ]
  },
  {
   "cell_type": "code",
   "execution_count": 16,
   "metadata": {
    "collapsed": false
   },
   "outputs": [
    {
     "name": "stdout",
     "output_type": "stream",
     "text": [
      "Worskpace 'nvs_assets' Exists.\n"
     ]
    }
   ],
   "source": [
    "if cat.get_workspace('nvs_assets') == None:\n",
    "    # create new workspace\n",
    "    cat.create_workspace('nvs_assets', 'http://data.nanoos.org/geoserver2_8/nvs_assets')\n",
    "    print \"Creating {}\".format('nvs_assets')\n",
    "else:\n",
    "    # Get workspace\n",
    "    nvs = cat.get_workspace('nvs_assets')\n",
    "    print \"Worskpace '{}' Exists.\".format(nvs.name)"
   ]
  },
  {
   "cell_type": "code",
   "execution_count": 17,
   "metadata": {
    "collapsed": false
   },
   "outputs": [
    {
     "name": "stdout",
     "output_type": "stream",
     "text": [
      "'nanoos_stations' datastore found!\n"
     ]
    }
   ],
   "source": [
    "try:\n",
    "    print \"'{}' datastore found!\".format(cat.get_store('nanoos_stations').name)\n",
    "except:\n",
    "    print \"Creating Geopackage datastore called 'nanoos_stations'\"\n",
    "    # Create the geopackage datastore\n",
    "    gpkg_ds = cat.create_datastore('nanoos_stations', workspace=nvs)\n",
    "    # Edit the connection parameters\n",
    "    gpkg_ds.connection_parameters = {'Connection timeout': '20',\n",
    "     'Evictor run periodicity': '300',\n",
    "     'Evictor tests per run': '3',\n",
    "     'Expose primary keys': 'false',\n",
    "     'Max connection idle time': '300',\n",
    "     'Test while idle': 'true',\n",
    "     'database': 'file:data/geopackages/nanoos_stations.gpkg', # Point to location of geopackage relative to the geoserver data directory\n",
    "     'dbtype': 'geopkg',\n",
    "     'fetch size': '1000',\n",
    "     'max connections': '10',\n",
    "     'min connections': '1',\n",
    "     'namespace': 'http://data.nanoos.org/geoserver2_8/nvs_assets', # Workspace URL\n",
    "     'validate connections': 'true'}\n",
    "    # Save datastore\n",
    "    cat.save(gpkg_ds)\n",
    "    \n",
    "    # Set necessary variables for cURL\n",
    "    data_name = 'nanoos_stations'\n",
    "    wksp_name = nvs.name\n",
    "    ds_name = gpkg_ds.name\n",
    "    \n",
    "    print \"Creating layer from '{}' table in geopackage\".format(data_name)\n",
    "    # Create layer from geopackage table\n",
    "    subprocess.call('curl -v -u username:password -XPOST -H \\\n",
    "    \"Content-type: text/xml\" -d \"<featureType><name>{0}</name>\\\n",
    "    </featureType>\" http://data.nanoos.org/geoserver2_8/rest/workspaces/{1}/\\\n",
    "    datastores/{2}/featuretypes'.format(data_name,wksp_name,ds_name), shell=True)\n",
    "    "
   ]
  },
  {
   "cell_type": "code",
   "execution_count": 18,
   "metadata": {
    "collapsed": false
   },
   "outputs": [
    {
     "name": "stdout",
     "output_type": "stream",
     "text": [
      "Projection is 'EPSG:4326'.\n",
      "Layer default style is 'nanoos_assets'\n"
     ]
    }
   ],
   "source": [
    "if cat.get_layer('nanoos_stations') == None:\n",
    "    print \"Data doesn't exist\"\n",
    "else:\n",
    "    # get the newly published layer w/o any projection\n",
    "    layer = cat.get_layer('nanoos_stations')\n",
    "\n",
    "    # retrieve resource to assign projection\n",
    "    rsrc = layer.resource\n",
    "    \n",
    "    if rsrc.projection == 'EPSG:4326':\n",
    "        print \"Projection is '{}'.\".format(rsrc.projection)\n",
    "    else: \n",
    "        print \"Assigning projection EPSG:4326 to layer\"\n",
    "        # assign Layer projection\n",
    "        rsrc.projection = 'EPSG:4326'\n",
    "        # save layer\n",
    "        cat.save(rsrc)\n",
    "        \n",
    "    # Get layer style\n",
    "    if layer.default_style.name == 'nanoos_assets':\n",
    "        print \"Layer default style is '{}'\".format(layer.default_style.name)\n",
    "    else:\n",
    "        print \"Setting layer default style to 'nanoos_assets'\"\n",
    "        # Set layer default style to change the look\n",
    "        layer.default_style = 'nanoos_assets'\n",
    "        cat.save(layer)"
   ]
  },
  {
   "cell_type": "code",
   "execution_count": null,
   "metadata": {
    "collapsed": false
   },
   "outputs": [],
   "source": []
  }
 ],
 "metadata": {
  "kernelspec": {
   "display_name": "Python 2",
   "language": "python",
   "name": "python2"
  },
  "language_info": {
   "codemirror_mode": {
    "name": "ipython",
    "version": 2
   },
   "file_extension": ".py",
   "mimetype": "text/x-python",
   "name": "python",
   "nbconvert_exporter": "python",
   "pygments_lexer": "ipython2",
   "version": "2.7.11"
  }
 },
 "nbformat": 4,
 "nbformat_minor": 0
}
